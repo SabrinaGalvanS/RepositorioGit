{
  "cells": [
    {
      "cell_type": "markdown",
      "metadata": {
        "id": "view-in-github",
        "colab_type": "text"
      },
      "source": [
        "<a href=\"https://colab.research.google.com/github/SabrinaGalvanS/RepositorioGit/blob/master/Practica_1.ipynb\" target=\"_parent\"><img src=\"https://colab.research.google.com/assets/colab-badge.svg\" alt=\"Open In Colab\"/></a>"
      ]
    },
    {
      "cell_type": "markdown",
      "id": "a41867fb",
      "metadata": {
        "tags": [],
        "id": "a41867fb"
      },
      "source": [
        "# Algoritmo Best-First Search para problemas de búsqueda\n",
        "\n",
        "El algoritmo de Best-First Search es un algoritmo simple basado en un árbol de búsqueda. Este algoritmo toma como entrada un problema de búsqueda y construye un árbol de búsqueda a partir de este.\n",
        "\n",
        "Para definirlo, presentaremos en primer lugar los elementos necesarios para definir nuestro problema de búsqueda.\n",
        "\n",
        "## Problema de búsqueda - Puzzle 8\n",
        "\n",
        "Definiremos el problema del mundo de la aspiradora, para esto recordemos que un problema de búsqueda cuenta con los siguientes elementos:\n",
        "\n",
        "1. Conjunto de estados\n",
        "1. Estado inicial\n",
        "1. Estados finales\n",
        "1. Acciones\n",
        "1. Modelo de transición\n",
        "1. Función de costo"
      ]
    },
    {
      "cell_type": "code",
      "execution_count": null,
      "id": "e290ae2a-4d4e-49f2-a499-016475e24666",
      "metadata": {
        "execution": {
          "iopub.execute_input": "2022-09-22T16:09:06.906160Z",
          "iopub.status.busy": "2022-09-22T16:09:06.905846Z",
          "iopub.status.idle": "2022-09-22T16:09:07.045534Z",
          "shell.execute_reply": "2022-09-22T16:09:07.045261Z",
          "shell.execute_reply.started": "2022-09-22T16:09:06.906134Z"
        },
        "tags": [],
        "id": "e290ae2a-4d4e-49f2-a499-016475e24666"
      },
      "outputs": [],
      "source": [
        "import numpy as np"
      ]
    },
    {
      "cell_type": "markdown",
      "id": "2b4a87a9-615b-4cfd-899f-ecadb4495e28",
      "metadata": {
        "id": "2b4a87a9-615b-4cfd-899f-ecadb4495e28"
      },
      "source": [
        "## 1. Espacio de estados cvc"
      ]
    },
    {
      "cell_type": "markdown",
      "id": "2ebc7693-0827-4b12-b01d-7f55bad52be8",
      "metadata": {
        "id": "2ebc7693-0827-4b12-b01d-7f55bad52be8"
      },
      "source": [
        "Podemos representar a cada ficha con su respectiva posición como una lista de Python, donde cada índice corresponde al lugar de la ficha y cada valor corresponde a la ficha misma. \n",
        "\n",
        "\n",
        "Los índices-posiciones se verán de la siguiente manera:\n",
        "\n",
        "|   |   |   |\n",
        "|---|---|---|\n",
        "| 0 | 1 | 2 |\n",
        "| 3 | 4 | 5 |\n",
        "| 6 | 7 | 8 |\n",
        "\n",
        "El espacio lo podemos representar con un *0*"
      ]
    },
    {
      "cell_type": "code",
      "execution_count": null,
      "id": "08917084-cfdf-4ea3-8c8e-f3b913497e4d",
      "metadata": {
        "execution": {
          "iopub.execute_input": "2022-09-22T16:09:52.896854Z",
          "iopub.status.busy": "2022-09-22T16:09:52.896294Z",
          "iopub.status.idle": "2022-09-22T16:09:52.904553Z",
          "shell.execute_reply": "2022-09-22T16:09:52.903469Z",
          "shell.execute_reply.started": "2022-09-22T16:09:52.896804Z"
        },
        "tags": [],
        "id": "08917084-cfdf-4ea3-8c8e-f3b913497e4d",
        "outputId": "207d49b2-d5a9-43a6-f97c-f526bf6fc576"
      },
      "outputs": [
        {
          "data": {
            "text/plain": [
              "array([1, 3, 5, 0, 4, 2, 8, 7, 6])"
            ]
          },
          "execution_count": 9,
          "metadata": {},
          "output_type": "execute_result"
        }
      ],
      "source": [
        "#conjunto de estados\n",
        "e = np.random.choice(range(9), replace=False, size=9)\n",
        "e"
      ]
    },
    {
      "cell_type": "markdown",
      "id": "875b3579-8b17-4716-bd4b-dca87003a9b1",
      "metadata": {
        "id": "875b3579-8b17-4716-bd4b-dca87003a9b1"
      },
      "source": [
        "|   |   |   |\n",
        "|---|---|---|\n",
        "| 1 | 3 | 5 |\n",
        "|   | 4 | 2 |\n",
        "| 8 | 7 | 6 |"
      ]
    },
    {
      "cell_type": "markdown",
      "id": "6f8655fa-3c10-4238-863f-6c906d6eae86",
      "metadata": {
        "id": "6f8655fa-3c10-4238-863f-6c906d6eae86"
      },
      "source": [
        "## 2. Estado Inicial "
      ]
    },
    {
      "cell_type": "code",
      "execution_count": null,
      "id": "457f8367-5d0f-4389-b18a-60968d451d7b",
      "metadata": {
        "execution": {
          "iopub.execute_input": "2022-09-22T17:34:46.431427Z",
          "iopub.status.busy": "2022-09-22T17:34:46.430845Z",
          "iopub.status.idle": "2022-09-22T17:34:46.438323Z",
          "shell.execute_reply": "2022-09-22T17:34:46.437097Z",
          "shell.execute_reply.started": "2022-09-22T17:34:46.431373Z"
        },
        "tags": [],
        "id": "457f8367-5d0f-4389-b18a-60968d451d7b"
      },
      "outputs": [],
      "source": [
        "estado_inicial = [1,0,2,6,3,4,7,5,8]"
      ]
    },
    {
      "cell_type": "markdown",
      "id": "8cdd5b6b-3777-4898-b27f-cd4d262fc966",
      "metadata": {
        "id": "8cdd5b6b-3777-4898-b27f-cd4d262fc966"
      },
      "source": [
        "|   |   |   |\n",
        "|---|---|---|\n",
        "| 1 |   | 2 |\n",
        "| 6 | 3 | 4 |\n",
        "| 7 | 5 | 8 |"
      ]
    },
    {
      "cell_type": "markdown",
      "id": "86912cdc-7807-4fbc-94cd-29461d7da9ae",
      "metadata": {
        "id": "86912cdc-7807-4fbc-94cd-29461d7da9ae"
      },
      "source": [
        "## 3. Estado objetivo "
      ]
    },
    {
      "cell_type": "code",
      "execution_count": null,
      "id": "07ec2199-1ce2-4b0f-b668-108c65345d4f",
      "metadata": {
        "execution": {
          "iopub.execute_input": "2022-09-22T16:12:29.904679Z",
          "iopub.status.busy": "2022-09-22T16:12:29.904356Z",
          "iopub.status.idle": "2022-09-22T16:12:29.908730Z",
          "shell.execute_reply": "2022-09-22T16:12:29.907515Z",
          "shell.execute_reply.started": "2022-09-22T16:12:29.904649Z"
        },
        "tags": [],
        "id": "07ec2199-1ce2-4b0f-b668-108c65345d4f"
      },
      "outputs": [],
      "source": [
        "estado_meta = [0,1,2,3,4,5,6,7,8]"
      ]
    },
    {
      "cell_type": "markdown",
      "id": "3ef83dc0-aa16-479e-af36-265f71003172",
      "metadata": {
        "id": "3ef83dc0-aa16-479e-af36-265f71003172"
      },
      "source": [
        "|   |   |   |\n",
        "|---|---|---|\n",
        "|   | 1 | 2 |\n",
        "| 3 | 4 | 5 |\n",
        "| 6 | 7 | 8 |"
      ]
    },
    {
      "cell_type": "markdown",
      "id": "d82afffc-60ee-4015-8e5b-08cb1a1eed88",
      "metadata": {
        "id": "d82afffc-60ee-4015-8e5b-08cb1a1eed88"
      },
      "source": [
        "## 4. Acciones disponibles "
      ]
    },
    {
      "cell_type": "markdown",
      "id": "8582fccb-76b0-4faa-a705-fca4f9d690e8",
      "metadata": {
        "id": "8582fccb-76b0-4faa-a705-fca4f9d690e8"
      },
      "source": [
        "Podemos especificar las acciones a tomar como las duplas (lugar de pieza a mover, dirección del movimiento)\n",
        "\n",
        "\n",
        "Por ejemplo:\n",
        "\n",
        "|   |   |   |\n",
        "|---|---|---|\n",
        "|   | 8 | 2 |\n",
        "| 5 | 4 | 3 |\n",
        "| 6 | 7 | 1 |\n",
        "\n",
        "Para este estado, las acciones posibles son:\n",
        "\n",
        "                                    {(1, izquierda), (3, arriba)}\n",
        "                                    \n",
        "Pero si lo pensamos, en nuestra representación del ambiente, el movimiento de la acción no es esencial, porque una vez escogido el lugar de la pieza, el movimiento ya queda determinado: no podemos hacer otra cosa más que **intercambiar el espacio por la ficha**.\n",
        "\n",
        "Sin embargo, vamos a dejar la acción por conveniencia, además de incluir el estado donde estaba la posición disponible (solo para ahorrar código)"
      ]
    },
    {
      "cell_type": "code",
      "execution_count": null,
      "id": "fd2397e8-2a81-4ffb-83a8-fcef4a90d67b",
      "metadata": {
        "execution": {
          "iopub.execute_input": "2022-09-22T17:02:16.682777Z",
          "iopub.status.busy": "2022-09-22T17:02:16.682363Z",
          "iopub.status.idle": "2022-09-22T17:02:16.700429Z",
          "shell.execute_reply": "2022-09-22T17:02:16.699674Z",
          "shell.execute_reply.started": "2022-09-22T17:02:16.682741Z"
        },
        "tags": [],
        "id": "fd2397e8-2a81-4ffb-83a8-fcef4a90d67b",
        "outputId": "027738c7-bb1d-472c-d6d7-e161a5403bfb"
      },
      "outputs": [
        {
          "data": {
            "text/plain": [
              "[(0, 'down', 3), (4, 'left', 3), (6, 'up', 3)]"
            ]
          },
          "execution_count": 22,
          "metadata": {},
          "output_type": "execute_result"
        }
      ],
      "source": [
        "def accion(estado):\n",
        "    if estado[0]==0:\n",
        "        return [(1,'left',0), (3,'up',0)]\n",
        "    elif estado[1]==0:\n",
        "        return [(0,'right',1), (2,'left',1),(4,'up',1)]\n",
        "    elif estado[2]==0:\n",
        "        return [(1,'right',2), (5,'up',2)]\n",
        "    elif estado[3]==0:\n",
        "        return [(0,'down',3), (4,'left',3), (6,'up',3)]\n",
        "    elif estado[4]==0:\n",
        "        return [(1,'down',4), (3,'right',4), (5,'left',4), (7,'up',4)]\n",
        "    elif estado[5]==0:\n",
        "        return [(2,'down',5), (4,'right',5), (8,'up',5)]\n",
        "    elif estado[6]==0:\n",
        "        return [(3,'down',6), (7,'left',6)]\n",
        "    elif estado[7]==0:\n",
        "        return [(4,'down',7), (6,'right',7), (8,'left',7)]\n",
        "    else:\n",
        "        return [(5,'down',8), (7,'right',8)]\n",
        "accion([1, 3, 5, 0, 4, 2, 8, 7, 6])"
      ]
    },
    {
      "cell_type": "markdown",
      "id": "97d384d7-424f-4f04-b95e-7d01afc3bc00",
      "metadata": {
        "id": "97d384d7-424f-4f04-b95e-7d01afc3bc00"
      },
      "source": [
        "## 5. Modelo de transición"
      ]
    },
    {
      "cell_type": "markdown",
      "id": "356e9fde-f1aa-4315-8053-da7390117576",
      "metadata": {
        "id": "356e9fde-f1aa-4315-8053-da7390117576"
      },
      "source": [
        "Aquí simplemente tenemos que reflejar ese intercambio de espacio-ficha:"
      ]
    },
    {
      "cell_type": "code",
      "execution_count": null,
      "id": "7c5f3a00-26a0-4bdf-824e-3be4d6527b51",
      "metadata": {
        "execution": {
          "iopub.execute_input": "2022-09-22T17:25:05.754979Z",
          "iopub.status.busy": "2022-09-22T17:25:05.754467Z",
          "iopub.status.idle": "2022-09-22T17:25:05.765032Z",
          "shell.execute_reply": "2022-09-22T17:25:05.764305Z",
          "shell.execute_reply.started": "2022-09-22T17:25:05.754930Z"
        },
        "tags": [],
        "id": "7c5f3a00-26a0-4bdf-824e-3be4d6527b51",
        "outputId": "bb2e3f33-2441-482b-bed4-ec4a3f983053"
      },
      "outputs": [
        {
          "data": {
            "text/plain": [
              "[1, 3, 5, 4, 0, 2, 8, 7, 6]"
            ]
          },
          "execution_count": 54,
          "metadata": {},
          "output_type": "execute_result"
        }
      ],
      "source": [
        "def transicion(estado, accion):\n",
        "\n",
        "    lugar_pieza_a_mover = accion[0] #el lugar seleccionado de la ficha a mover\n",
        "    lugar_disponible = accion[2] #donde está el espacio\n",
        "    pieza = estado[lugar_pieza_a_mover] #el valor de la ficha\n",
        "    \n",
        "    nuevo_estado = estado.copy() #nuevo estado para hacer el reemplazo\n",
        "    \n",
        "    nuevo_estado[lugar_pieza_a_mover] = 0 #reemplazando la ficha por espacio\n",
        "    nuevo_estado[lugar_disponible] = pieza #reemplazando espacio por ficha\n",
        "    return nuevo_estado\n",
        "transicion([1, 3, 5, 0, 4, 2, 8, 7, 6], accion([1, 3, 5, 0, 4, 2, 8, 7, 6])[1])\n",
        "\n",
        "#[1, 3, 5, \n",
        "# 0, 4, 2, \n",
        "# 8, 7, 6]\n",
        "#\n",
        "#[1, 3, 5, \n",
        "# 4, 0, 2, \n",
        "# 8, 7, 6]"
      ]
    },
    {
      "cell_type": "markdown",
      "id": "86afc90f-ae20-4eab-a810-a609514ddf17",
      "metadata": {
        "execution": {
          "iopub.execute_input": "2022-09-22T17:32:08.884464Z",
          "iopub.status.busy": "2022-09-22T17:32:08.883526Z",
          "iopub.status.idle": "2022-09-22T17:32:08.891007Z",
          "shell.execute_reply": "2022-09-22T17:32:08.890017Z",
          "shell.execute_reply.started": "2022-09-22T17:32:08.884387Z"
        },
        "id": "86afc90f-ae20-4eab-a810-a609514ddf17"
      },
      "source": [
        "## 6. Función de costos"
      ]
    },
    {
      "cell_type": "markdown",
      "id": "f9992c94-e62f-4a9b-81ea-053689e2aefa",
      "metadata": {
        "id": "f9992c94-e62f-4a9b-81ea-053689e2aefa"
      },
      "source": [
        "Asumiremos que cada acción tiene un costo 1, por lo que\n",
        "\n",
        "c(s',a,s) = c = 1"
      ]
    },
    {
      "cell_type": "markdown",
      "id": "40215506-6ec9-4a54-b0a7-5ebabc5d9483",
      "metadata": {
        "id": "40215506-6ec9-4a54-b0a7-5ebabc5d9483"
      },
      "source": [
        "## Búsqueda\n",
        "Ahora ya tenemos todas las piezas necesarias para implementar nuestro algoritmo de búsqueda"
      ]
    },
    {
      "cell_type": "code",
      "execution_count": null,
      "id": "d4434e0f-67cb-41e7-be8c-5671c11f6a66",
      "metadata": {
        "execution": {
          "iopub.execute_input": "2022-09-22T19:05:47.925177Z",
          "iopub.status.busy": "2022-09-22T19:05:47.924652Z",
          "iopub.status.idle": "2022-09-22T19:05:47.931011Z",
          "shell.execute_reply": "2022-09-22T19:05:47.930352Z",
          "shell.execute_reply.started": "2022-09-22T19:05:47.925126Z"
        },
        "tags": [],
        "id": "d4434e0f-67cb-41e7-be8c-5671c11f6a66"
      },
      "outputs": [],
      "source": [
        "class Node():\n",
        "    def __init__(self):\n",
        "        self.state = None\n",
        "        self.parent = None\n",
        "        self.action = None\n",
        "        self.cost = 0"
      ]
    },
    {
      "cell_type": "code",
      "execution_count": null,
      "id": "d650036f-e29d-48cf-aa0b-1ce559523a7a",
      "metadata": {
        "execution": {
          "iopub.execute_input": "2022-09-22T19:00:14.888911Z",
          "iopub.status.busy": "2022-09-22T19:00:14.888305Z",
          "iopub.status.idle": "2022-09-22T19:00:14.902336Z",
          "shell.execute_reply": "2022-09-22T19:00:14.901623Z",
          "shell.execute_reply.started": "2022-09-22T19:00:14.888880Z"
        },
        "tags": [],
        "id": "d650036f-e29d-48cf-aa0b-1ce559523a7a",
        "outputId": "98e56cae-0809-47a2-e898-7a052af6d4aa"
      },
      "outputs": [
        {
          "data": {
            "text/plain": [
              "'right'"
            ]
          },
          "execution_count": 111,
          "metadata": {},
          "output_type": "execute_result"
        }
      ],
      "source": [
        "def expand(node):\n",
        "    #frontera = []\n",
        "    #for accion_ in accion(estado):\n",
        "    #    frontera.append( transicion(estado,accion_)  )\n",
        "    #return frontera\n",
        "    estado = node.state\n",
        "    for action in accion(estado):\n",
        "        #Ejecuta la acción\n",
        "        new_state = transicion(estado, action)\n",
        "        #Guarda el costo de la acción\n",
        "        cost = node.cost + 1 #siempre cuesta 1 nuestra accion\n",
        "        \n",
        "        #Genera un nuevo nodo\n",
        "        new_node = Node()\n",
        "        new_node.state = new_state\n",
        "        new_node.parent = node\n",
        "        new_node.action = action[1] #guardamos la \"accion\"\n",
        "        new_node.cost = cost\n",
        "        yield new_node #va apendeando a un iterable \n",
        "test_node = Node()\n",
        "test_node.state = [1,0,2,6,3,4,7,5,8]\n",
        "list(expand(test_node))[0].action"
      ]
    },
    {
      "cell_type": "code",
      "execution_count": null,
      "id": "ba51938c-b850-4b8e-81b7-7aef6be75592",
      "metadata": {
        "id": "ba51938c-b850-4b8e-81b7-7aef6be75592"
      },
      "outputs": [],
      "source": [
        "[1,0,2,\n",
        " 6,3,4,\n",
        " 7,5,8]"
      ]
    },
    {
      "cell_type": "code",
      "execution_count": null,
      "id": "ec265838-36c7-4bf6-83f6-96a9aa2211e2",
      "metadata": {
        "execution": {
          "iopub.execute_input": "2022-09-22T19:00:27.809101Z",
          "iopub.status.busy": "2022-09-22T19:00:27.808655Z",
          "iopub.status.idle": "2022-09-22T19:00:27.817910Z",
          "shell.execute_reply": "2022-09-22T19:00:27.816999Z",
          "shell.execute_reply.started": "2022-09-22T19:00:27.809043Z"
        },
        "tags": [],
        "id": "ec265838-36c7-4bf6-83f6-96a9aa2211e2",
        "outputId": "a54601a2-1e7d-4a38-bffe-32b7bd3ac1b9"
      },
      "outputs": [
        {
          "data": {
            "text/plain": [
              "[(0, 'right', 1), (2, 'left', 1), (4, 'up', 1)]"
            ]
          },
          "execution_count": 112,
          "metadata": {},
          "output_type": "execute_result"
        }
      ],
      "source": [
        "accion(test_node.state)"
      ]
    },
    {
      "cell_type": "code",
      "execution_count": null,
      "id": "e4ba7b6b-6ef3-428c-9580-c9fce6c92016",
      "metadata": {
        "execution": {
          "iopub.execute_input": "2022-09-22T19:13:51.568097Z",
          "iopub.status.busy": "2022-09-22T19:13:51.567584Z",
          "iopub.status.idle": "2022-09-22T19:13:51.624432Z",
          "shell.execute_reply": "2022-09-22T19:13:51.623999Z",
          "shell.execute_reply.started": "2022-09-22T19:13:51.568059Z"
        },
        "tags": [],
        "id": "e4ba7b6b-6ef3-428c-9580-c9fce6c92016",
        "outputId": "05690f73-cc9f-464c-b498-a58a34a68e1e"
      },
      "outputs": [
        {
          "data": {
            "text/plain": [
              "2"
            ]
          },
          "execution_count": 142,
          "metadata": {},
          "output_type": "execute_result"
        }
      ],
      "source": [
        "estado_inicial = [1,0,2,6,3,4,7,5,8]\n",
        "estado_inicial = [1,0,2,3,4,5,6,7,8]\n",
        "estado_meta = [0,1,2,3,4,5,6,7,8]\n",
        "\n",
        "nodo_inicial = Node()\n",
        "nodo_inicial.state = estado_inicial #imponiendo el estado inicial\n",
        "\n",
        "nodos = [] #camino de nodos\n",
        "frontier = [nodo_inicial] #poblamos la frontera con el nodo inicial\n",
        "reached = {str(estado_inicial):nodo_inicial}\n",
        "\n",
        "def search():\n",
        "    while len(frontier)>0:\n",
        "        nodo = frontier.pop(0) #removiendo primer elemento de la lista\n",
        "\n",
        "        nodos.append(nodo) #guardamos el nodo alcanzado\n",
        "\n",
        "        if nodo.state == estado_meta:\n",
        "            #break\n",
        "            return nodos\n",
        "\n",
        "        #Expande el nodo actual\n",
        "        for child in expand(nodo):\n",
        "            #Guarda estado de los hijos\n",
        "            state = child.state\n",
        "            #Guarda los hijos no alcanzados o que tengan menor costo\n",
        "            if str(state) not in reached.keys() or child.cost < reached[str(state)].cost:\n",
        "                reached[str(state)] = child\n",
        "                frontier.append(child)    \n",
        "    return \"No se ha logrado llegar a un estado final.\"\n",
        "solucion = search()\n",
        "len(solucion)"
      ]
    }
  ],
  "metadata": {
    "kernelspec": {
      "display_name": "Python 3 (ipykernel)",
      "language": "python",
      "name": "python3"
    },
    "language_info": {
      "codemirror_mode": {
        "name": "ipython",
        "version": 3
      },
      "file_extension": ".py",
      "mimetype": "text/x-python",
      "name": "python",
      "nbconvert_exporter": "python",
      "pygments_lexer": "ipython3",
      "version": "3.9.7"
    },
    "colab": {
      "provenance": [],
      "collapsed_sections": [],
      "include_colab_link": true
    }
  },
  "nbformat": 4,
  "nbformat_minor": 5
}